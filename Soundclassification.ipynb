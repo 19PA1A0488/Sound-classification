{
 "cells": [
  {
   "cell_type": "code",
   "execution_count": 3,
   "metadata": {
    "scrolled": true
   },
   "outputs": [
    {
     "name": "stdout",
     "output_type": "stream",
     "text": [
      "Requirement already satisfied: librosa in c:\\users\\priya lakku\\anaconda3\\lib\\site-packages (0.8.1)\n",
      "Requirement already satisfied: joblib>=0.14 in c:\\users\\priya lakku\\anaconda3\\lib\\site-packages (from librosa) (0.16.0)\n",
      "Requirement already satisfied: audioread>=2.0.0 in c:\\users\\priya lakku\\anaconda3\\lib\\site-packages (from librosa) (2.1.9)\n",
      "Requirement already satisfied: pooch>=1.0 in c:\\users\\priya lakku\\anaconda3\\lib\\site-packages (from librosa) (1.5.2)\n",
      "Requirement already satisfied: scikit-learn!=0.19.0,>=0.14.0 in c:\\users\\priya lakku\\anaconda3\\lib\\site-packages (from librosa) (0.23.1)\n",
      "Requirement already satisfied: decorator>=3.0.0 in c:\\users\\priya lakku\\anaconda3\\lib\\site-packages (from librosa) (4.4.2)\n",
      "Requirement already satisfied: numba>=0.43.0 in c:\\users\\priya lakku\\anaconda3\\lib\\site-packages (from librosa) (0.50.1)\n",
      "Requirement already satisfied: numpy>=1.15.0 in c:\\users\\priya lakku\\anaconda3\\lib\\site-packages (from librosa) (1.18.5)\n",
      "Requirement already satisfied: soundfile>=0.10.2 in c:\\users\\priya lakku\\anaconda3\\lib\\site-packages (from librosa) (0.10.3.post1)\n",
      "Requirement already satisfied: scipy>=1.0.0 in c:\\users\\priya lakku\\anaconda3\\lib\\site-packages (from librosa) (1.5.0)\n",
      "Requirement already satisfied: resampy>=0.2.2 in c:\\users\\priya lakku\\anaconda3\\lib\\site-packages (from librosa) (0.2.2)\n",
      "Requirement already satisfied: packaging>=20.0 in c:\\users\\priya lakku\\anaconda3\\lib\\site-packages (from librosa) (20.4)\n",
      "Requirement already satisfied: appdirs in c:\\users\\priya lakku\\anaconda3\\lib\\site-packages (from pooch>=1.0->librosa) (1.4.4)\n",
      "Requirement already satisfied: requests in c:\\users\\priya lakku\\anaconda3\\lib\\site-packages (from pooch>=1.0->librosa) (2.25.1)\n",
      "Requirement already satisfied: threadpoolctl>=2.0.0 in c:\\users\\priya lakku\\anaconda3\\lib\\site-packages (from scikit-learn!=0.19.0,>=0.14.0->librosa) (2.1.0)\n",
      "Requirement already satisfied: llvmlite<0.34,>=0.33.0.dev0 in c:\\users\\priya lakku\\anaconda3\\lib\\site-packages (from numba>=0.43.0->librosa) (0.33.0+1.g022ab0f)\n",
      "Requirement already satisfied: setuptools in c:\\users\\priya lakku\\anaconda3\\lib\\site-packages (from numba>=0.43.0->librosa) (49.2.0.post20200714)\n",
      "Requirement already satisfied: cffi>=1.0 in c:\\users\\priya lakku\\anaconda3\\lib\\site-packages (from soundfile>=0.10.2->librosa) (1.14.0)\n",
      "Requirement already satisfied: six>=1.3 in c:\\users\\priya lakku\\anaconda3\\lib\\site-packages (from resampy>=0.2.2->librosa) (1.15.0)\n",
      "Requirement already satisfied: pyparsing>=2.0.2 in c:\\users\\priya lakku\\anaconda3\\lib\\site-packages (from packaging>=20.0->librosa) (2.4.7)\n",
      "Requirement already satisfied: urllib3<1.27,>=1.21.1 in c:\\users\\priya lakku\\anaconda3\\lib\\site-packages (from requests->pooch>=1.0->librosa) (1.25.9)\n",
      "Requirement already satisfied: certifi>=2017.4.17 in c:\\users\\priya lakku\\anaconda3\\lib\\site-packages (from requests->pooch>=1.0->librosa) (2020.6.20)\n",
      "Requirement already satisfied: chardet<5,>=3.0.2 in c:\\users\\priya lakku\\anaconda3\\lib\\site-packages (from requests->pooch>=1.0->librosa) (3.0.4)\n",
      "Requirement already satisfied: idna<3,>=2.5 in c:\\users\\priya lakku\\anaconda3\\lib\\site-packages (from requests->pooch>=1.0->librosa) (2.10)\n",
      "Requirement already satisfied: pycparser in c:\\users\\priya lakku\\anaconda3\\lib\\site-packages (from cffi>=1.0->soundfile>=0.10.2->librosa) (2.20)\n"
     ]
    }
   ],
   "source": [
    "!pip install librosa"
   ]
  },
  {
   "cell_type": "markdown",
   "metadata": {},
   "source": [
    "# DATA ANALYSIS"
   ]
  },
  {
   "cell_type": "code",
   "execution_count": 4,
   "metadata": {},
   "outputs": [],
   "source": [
    "import matplotlib.pyplot as plt\n",
    "%matplotlib inline"
   ]
  },
  {
   "cell_type": "code",
   "execution_count": 5,
   "metadata": {},
   "outputs": [],
   "source": [
    "filename='UrbanSound8K/dog_bark.wav'"
   ]
  },
  {
   "cell_type": "code",
   "execution_count": 6,
   "metadata": {},
   "outputs": [],
   "source": [
    "import IPython.display as ipd\n",
    "import librosa\n",
    "import librosa.display"
   ]
  },
  {
   "cell_type": "code",
   "execution_count": 7,
   "metadata": {},
   "outputs": [
    {
     "name": "stdout",
     "output_type": "stream",
     "text": [
      " Volume in drive D is Data\n",
      " Volume Serial Number is 64C1-79E3\n",
      "\n",
      " Directory of D:\\\n",
      "\n",
      "22-12-2021  06.16 AM    <DIR>          .ipynb_checkpoints\n",
      "04-08-2019  05.00 AM    <DIR>          Drivers\n",
      "10-11-2021  04.10 PM    <DIR>          files\n",
      "21-09-2021  09.38 AM    <DIR>          IR controlled home automation-8\n",
      "11-01-2022  10.16 AM    <DIR>          Movies\n",
      "14-01-2022  07.35 PM    <DIR>          priya\n",
      "17-06-2021  04.26 PM    <DIR>          Program Files\n",
      "22-12-2021  06.15 AM         1,127,754 Review-2.ipynb\n",
      "15-12-2021  08.14 PM    <DIR>          saved_models\n",
      "14-12-2021  12.08 AM           166,580 Untitled.ipynb\n",
      "18-01-2022  05.38 PM           325,986 untitled2.ipynb\n",
      "15-12-2021  11.12 PM    <DIR>          UrbanSound8K\n",
      "31-12-2021  08.20 PM    <DIR>          WindowsApps\n",
      "17-06-2021  04.26 PM    <DIR>          WpSystem\n",
      "09-01-2022  12.00 PM    <DIR>          WUDownloadCache\n",
      "               3 File(s)      1,620,320 bytes\n",
      "              12 Dir(s)  882,455,064,576 bytes free\n"
     ]
    }
   ],
   "source": [
    "!dir"
   ]
  },
  {
   "cell_type": "code",
   "execution_count": 89,
   "metadata": {},
   "outputs": [],
   "source": [
    "from scipy.io import wavfile as wav\n",
    "wave_sample_rate, wave_audio=wav.read(filename)"
   ]
  },
  {
   "cell_type": "code",
   "execution_count": 90,
   "metadata": {},
   "outputs": [
    {
     "data": {
      "text/plain": [
       "44100"
      ]
     },
     "execution_count": 90,
     "metadata": {},
     "output_type": "execute_result"
    }
   ],
   "source": [
    "wave_sample_rate"
   ]
  },
  {
   "cell_type": "code",
   "execution_count": 91,
   "metadata": {},
   "outputs": [
    {
     "data": {
      "text/plain": [
       "array([[  139, -1275],\n",
       "       [ 1962,  -125],\n",
       "       [ 1211,  -168],\n",
       "       ...,\n",
       "       [-1346,   322],\n",
       "       [ -246,  1127],\n",
       "       [ -544,   -51]], dtype=int16)"
      ]
     },
     "execution_count": 91,
     "metadata": {},
     "output_type": "execute_result"
    }
   ],
   "source": [
    "wave_audio"
   ]
  },
  {
   "cell_type": "code",
   "execution_count": 92,
   "metadata": {},
   "outputs": [
    {
     "data": {
      "text/plain": [
       "[<matplotlib.lines.Line2D at 0x21659f894f0>,\n",
       " <matplotlib.lines.Line2D at 0x21659f895e0>]"
      ]
     },
     "execution_count": 92,
     "metadata": {},
     "output_type": "execute_result"
    },
    {
     "data": {
      "image/png": "[encoded data removed]",
      "text/plain": [
       "<Figure size 864x288 with 1 Axes>"
      ]
     },
     "metadata": {
      "needs_background": "light"
     },
     "output_type": "display_data"
    }
   ],
   "source": [
    "import matplotlib.pyplot as plt\n",
    "plt.figure(figsize=(12, 4))\n",
    "plt.plot(wave_audio)"
   ]
  },
  {
   "cell_type": "code",
   "execution_count": 8,
   "metadata": {},
   "outputs": [
    {
     "data": {
      "text/html": [
       "\n",
       "                <audio  controls=\"controls\" >\n",
       "                    <source src=\"data:audio/wav;base64,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\" type=\"audio/wav\" />\n",
       "                    Your browser does not support the audio element.\n",
       "                </audio>\n",
       "              "
      ],
      "text/plain": [
       "<IPython.lib.display.Audio object>"
      ]
     },
     "execution_count": 8,
     "metadata": {},
     "output_type": "execute_result"
    },
    {
     "data": {
      "image/png": "[encoded data removed]",
      "text/plain": [
       "<Figure size 1008x360 with 1 Axes>"
      ]
     },
     "metadata": {
      "needs_background": "light"
     },
     "output_type": "display_data"
    }
   ],
   "source": [
    "### Dog Sound\n",
    "plt.figure(figsize=(14,5))\n",
    "data,sample_rate=librosa.load(filename)\n",
    "librosa.display.waveplot(data,sr=sample_rate)\n",
    "ipd.Audio(filename)"
   ]
  },
  {
   "cell_type": "code",
   "execution_count": 9,
   "metadata": {},
   "outputs": [
    {
     "data": {
      "text/plain": [
       "22050"
      ]
     },
     "execution_count": 9,
     "metadata": {},
     "output_type": "execute_result"
    }
   ],
   "source": [
    "sample_rate"
   ]
  },
  {
   "cell_type": "code",
   "execution_count": 10,
   "metadata": {},
   "outputs": [
    {
     "data": {
      "text/plain": [
       "array([-0.00274324, -0.00226056, -0.00111446, ...,  0.00106908,\n",
       "        0.00128053,  0.00225282], dtype=float32)"
      ]
     },
     "execution_count": 10,
     "metadata": {},
     "output_type": "execute_result"
    }
   ],
   "source": [
    "data"
   ]
  },
  {
   "cell_type": "code",
   "execution_count": 11,
   "metadata": {},
   "outputs": [],
   "source": [
    "from scipy.io import wavfile as wav\n",
    "wave_sample_rate, wave_audio=wav.read(filename)"
   ]
  },
  {
   "cell_type": "code",
   "execution_count": 12,
   "metadata": {},
   "outputs": [
    {
     "data": {
      "text/plain": [
       "48000"
      ]
     },
     "execution_count": 12,
     "metadata": {},
     "output_type": "execute_result"
    }
   ],
   "source": [
    "wave_sample_rate"
   ]
  },
  {
   "cell_type": "code",
   "execution_count": 13,
   "metadata": {},
   "outputs": [
    {
     "data": {
      "text/plain": [
       "array([-136,  -98,  -65, ...,   65,   76,   65], dtype=int16)"
      ]
     },
     "execution_count": 13,
     "metadata": {},
     "output_type": "execute_result"
    }
   ],
   "source": [
    "wave_audio"
   ]
  },
  {
   "cell_type": "code",
   "execution_count": 14,
   "metadata": {},
   "outputs": [
    {
     "data": {
      "text/plain": [
       "array([-0.00274324, -0.00226056, -0.00111446, ...,  0.00106908,\n",
       "        0.00128053,  0.00225282], dtype=float32)"
      ]
     },
     "execution_count": 14,
     "metadata": {},
     "output_type": "execute_result"
    }
   ],
   "source": [
    "data"
   ]
  },
  {
   "cell_type": "code",
   "execution_count": 15,
   "metadata": {},
   "outputs": [
    {
     "data": {
      "text/html": [
       "<div>\n",
       "<style scoped>\n",
       "    .dataframe tbody tr th:only-of-type {\n",
       "        vertical-align: middle;\n",
       "    }\n",
       "\n",
       "    .dataframe tbody tr th {\n",
       "        vertical-align: top;\n",
       "    }\n",
       "\n",
       "    .dataframe thead th {\n",
       "        text-align: right;\n",
       "    }\n",
       "</style>\n",
       "<table border=\"1\" class=\"dataframe\">\n",
       "  <thead>\n",
       "    <tr style=\"text-align: right;\">\n",
       "      <th></th>\n",
       "      <th>slice_file_name</th>\n",
       "      <th>fsID</th>\n",
       "      <th>start</th>\n",
       "      <th>end</th>\n",
       "      <th>salience</th>\n",
       "      <th>fold</th>\n",
       "      <th>classID</th>\n",
       "      <th>class</th>\n",
       "    </tr>\n",
       "  </thead>\n",
       "  <tbody>\n",
       "    <tr>\n",
       "      <th>0</th>\n",
       "      <td>100032-3-0-0.wav</td>\n",
       "      <td>100032</td>\n",
       "      <td>0.000000</td>\n",
       "      <td>0.317551</td>\n",
       "      <td>1</td>\n",
       "      <td>5</td>\n",
       "      <td>3</td>\n",
       "      <td>dog_bark</td>\n",
       "    </tr>\n",
       "    <tr>\n",
       "      <th>1</th>\n",
       "      <td>100263-2-0-117.wav</td>\n",
       "      <td>100263</td>\n",
       "      <td>58.500000</td>\n",
       "      <td>62.500000</td>\n",
       "      <td>1</td>\n",
       "      <td>5</td>\n",
       "      <td>2</td>\n",
       "      <td>children_playing</td>\n",
       "    </tr>\n",
       "    <tr>\n",
       "      <th>2</th>\n",
       "      <td>100263-2-0-121.wav</td>\n",
       "      <td>100263</td>\n",
       "      <td>60.500000</td>\n",
       "      <td>64.500000</td>\n",
       "      <td>1</td>\n",
       "      <td>5</td>\n",
       "      <td>2</td>\n",
       "      <td>children_playing</td>\n",
       "    </tr>\n",
       "    <tr>\n",
       "      <th>3</th>\n",
       "      <td>100263-2-0-126.wav</td>\n",
       "      <td>100263</td>\n",
       "      <td>63.000000</td>\n",
       "      <td>67.000000</td>\n",
       "      <td>1</td>\n",
       "      <td>5</td>\n",
       "      <td>2</td>\n",
       "      <td>children_playing</td>\n",
       "    </tr>\n",
       "    <tr>\n",
       "      <th>4</th>\n",
       "      <td>100263-2-0-137.wav</td>\n",
       "      <td>100263</td>\n",
       "      <td>68.500000</td>\n",
       "      <td>72.500000</td>\n",
       "      <td>1</td>\n",
       "      <td>5</td>\n",
       "      <td>2</td>\n",
       "      <td>children_playing</td>\n",
       "    </tr>\n",
       "    <tr>\n",
       "      <th>5</th>\n",
       "      <td>100263-2-0-143.wav</td>\n",
       "      <td>100263</td>\n",
       "      <td>71.500000</td>\n",
       "      <td>75.500000</td>\n",
       "      <td>1</td>\n",
       "      <td>5</td>\n",
       "      <td>2</td>\n",
       "      <td>children_playing</td>\n",
       "    </tr>\n",
       "    <tr>\n",
       "      <th>6</th>\n",
       "      <td>100263-2-0-161.wav</td>\n",
       "      <td>100263</td>\n",
       "      <td>80.500000</td>\n",
       "      <td>84.500000</td>\n",
       "      <td>1</td>\n",
       "      <td>5</td>\n",
       "      <td>2</td>\n",
       "      <td>children_playing</td>\n",
       "    </tr>\n",
       "    <tr>\n",
       "      <th>7</th>\n",
       "      <td>100263-2-0-3.wav</td>\n",
       "      <td>100263</td>\n",
       "      <td>1.500000</td>\n",
       "      <td>5.500000</td>\n",
       "      <td>1</td>\n",
       "      <td>5</td>\n",
       "      <td>2</td>\n",
       "      <td>children_playing</td>\n",
       "    </tr>\n",
       "    <tr>\n",
       "      <th>8</th>\n",
       "      <td>100263-2-0-36.wav</td>\n",
       "      <td>100263</td>\n",
       "      <td>18.000000</td>\n",
       "      <td>22.000000</td>\n",
       "      <td>1</td>\n",
       "      <td>5</td>\n",
       "      <td>2</td>\n",
       "      <td>children_playing</td>\n",
       "    </tr>\n",
       "    <tr>\n",
       "      <th>9</th>\n",
       "      <td>100648-1-0-0.wav</td>\n",
       "      <td>100648</td>\n",
       "      <td>4.823402</td>\n",
       "      <td>5.471927</td>\n",
       "      <td>2</td>\n",
       "      <td>10</td>\n",
       "      <td>1</td>\n",
       "      <td>car_horn</td>\n",
       "    </tr>\n",
       "  </tbody>\n",
       "</table>\n",
       "</div>"
      ],
      "text/plain": [
       "      slice_file_name    fsID      start        end  salience  fold  classID  \\\n",
       "0    100032-3-0-0.wav  100032   0.000000   0.317551         1     5        3   \n",
       "1  100263-2-0-117.wav  100263  58.500000  62.500000         1     5        2   \n",
       "2  100263-2-0-121.wav  100263  60.500000  64.500000         1     5        2   \n",
       "3  100263-2-0-126.wav  100263  63.000000  67.000000         1     5        2   \n",
       "4  100263-2-0-137.wav  100263  68.500000  72.500000         1     5        2   \n",
       "5  100263-2-0-143.wav  100263  71.500000  75.500000         1     5        2   \n",
       "6  100263-2-0-161.wav  100263  80.500000  84.500000         1     5        2   \n",
       "7    100263-2-0-3.wav  100263   1.500000   5.500000         1     5        2   \n",
       "8   100263-2-0-36.wav  100263  18.000000  22.000000         1     5        2   \n",
       "9    100648-1-0-0.wav  100648   4.823402   5.471927         2    10        1   \n",
       "\n",
       "              class  \n",
       "0          dog_bark  \n",
       "1  children_playing  \n",
       "2  children_playing  \n",
       "3  children_playing  \n",
       "4  children_playing  \n",
       "5  children_playing  \n",
       "6  children_playing  \n",
       "7  children_playing  \n",
       "8  children_playing  \n",
       "9          car_horn  "
      ]
     },
     "execution_count": 15,
     "metadata": {},
     "output_type": "execute_result"
    }
   ],
   "source": [
    "import pandas as pd\n",
    "\n",
    "metadata=pd.read_csv('UrbanSound8K/metadata/UrbanSound8K.csv')\n",
    "metadata.head(10)"
   ]
  },
  {
   "cell_type": "code",
   "execution_count": 16,
   "metadata": {},
   "outputs": [
    {
     "data": {
      "text/plain": [
       "engine_idling       1000\n",
       "street_music        1000\n",
       "drilling            1000\n",
       "dog_bark            1000\n",
       "jackhammer          1000\n",
       "children_playing    1000\n",
       "air_conditioner     1000\n",
       "siren                929\n",
       "car_horn             429\n",
       "gun_shot             374\n",
       "Name: class, dtype: int64"
      ]
     },
     "execution_count": 16,
     "metadata": {},
     "output_type": "execute_result"
    }
   ],
   "source": [
    "metadata['class'].value_counts()"
   ]
  },
  {
   "cell_type": "markdown",
   "metadata": {},
   "source": [
    "# DATA PRE-PROCESSING"
   ]
  },
  {
   "cell_type": "code",
   "execution_count": 17,
   "metadata": {},
   "outputs": [],
   "source": [
    "### Let's read a sample audio using librosa\n",
    "import librosa\n",
    "audio_file_path='UrbanSound8K/100263-2-0-3.wav'\n",
    "librosa_audio_data,librosa_sample_rate=librosa.load(audio_file_path)\n"
   ]
  },
  {
   "cell_type": "code",
   "execution_count": 18,
   "metadata": {},
   "outputs": [
    {
     "name": "stdout",
     "output_type": "stream",
     "text": [
      "[ 0.00330576  0.00468387  0.00360455 ... -0.0037562  -0.00348641\n",
      " -0.00356705]\n"
     ]
    }
   ],
   "source": [
    "print(librosa_audio_data)"
   ]
  },
  {
   "cell_type": "code",
   "execution_count": 19,
   "metadata": {},
   "outputs": [
    {
     "data": {
      "text/plain": [
       "[<matplotlib.lines.Line2D at 0x21649fb7580>]"
      ]
     },
     "execution_count": 19,
     "metadata": {},
     "output_type": "execute_result"
    },
    {
     "data": {
      "image/png": "[encoded data removed]",
      "text/plain": [
       "<Figure size 864x288 with 1 Axes>"
      ]
     },
     "metadata": {
      "needs_background": "light"
     },
     "output_type": "display_data"
    }
   ],
   "source": [
    "### Lets plot the librosa audio data\n",
    "import matplotlib.pyplot as plt\n",
    "# Original audio with 1 channel \n",
    "plt.figure(figsize=(12, 4))\n",
    "plt.plot(librosa_audio_data)"
   ]
  },
  {
   "cell_type": "code",
   "execution_count": 20,
   "metadata": {},
   "outputs": [],
   "source": [
    "### Lets read with scipy\n",
    "from scipy.io import wavfile as wav\n",
    "wave_sample_rate, wave_audio = wav.read(audio_file_path) "
   ]
  },
  {
   "cell_type": "code",
   "execution_count": 21,
   "metadata": {},
   "outputs": [
    {
     "data": {
      "text/plain": [
       "array([[ 194,  100],\n",
       "       [ 179,  113],\n",
       "       [ 160,  124],\n",
       "       ...,\n",
       "       [-143,  -87],\n",
       "       [-134,  -91],\n",
       "       [-110,  -98]], dtype=int16)"
      ]
     },
     "execution_count": 21,
     "metadata": {},
     "output_type": "execute_result"
    }
   ],
   "source": [
    "wave_audio"
   ]
  },
  {
   "cell_type": "code",
   "execution_count": 22,
   "metadata": {},
   "outputs": [
    {
     "data": {
      "text/plain": [
       "[<matplotlib.lines.Line2D at 0x2164a015610>,\n",
       " <matplotlib.lines.Line2D at 0x2164a015700>]"
      ]
     },
     "execution_count": 22,
     "metadata": {},
     "output_type": "execute_result"
    },
    {
     "data": {
      "image/png": "[encoded data removed]",
      "text/plain": [
       "<Figure size 864x288 with 1 Axes>"
      ]
     },
     "metadata": {
      "needs_background": "light"
     },
     "output_type": "display_data"
    }
   ],
   "source": [
    "import matplotlib.pyplot as plt\n",
    "\n",
    "# Original audio with 2 channels \n",
    "plt.figure(figsize=(12, 4))\n",
    "plt.plot(wave_audio)"
   ]
  },
  {
   "cell_type": "markdown",
   "metadata": {},
   "source": [
    "# FEATURE EXTRACTION"
   ]
  },
  {
   "cell_type": "code",
   "execution_count": 23,
   "metadata": {},
   "outputs": [
    {
     "name": "stdout",
     "output_type": "stream",
     "text": [
      "(40, 173)\n"
     ]
    }
   ],
   "source": [
    "mfccs = librosa.feature.mfcc(y=librosa_audio_data, sr=librosa_sample_rate, n_mfcc=40)\n",
    "print(mfccs.shape)"
   ]
  },
  {
   "cell_type": "code",
   "execution_count": 24,
   "metadata": {},
   "outputs": [
    {
     "data": {
      "text/plain": [
       "array([[-4.45197296e+02, -4.47219299e+02, -4.49755127e+02, ...,\n",
       "        -4.77412781e+02, -4.74241730e+02, -4.82704987e+02],\n",
       "       [ 1.12513969e+02,  1.11970383e+02,  1.12244164e+02, ...,\n",
       "         1.12045395e+02,  1.12248581e+02,  1.05560913e+02],\n",
       "       [-1.58260956e+01, -2.30021858e+01, -3.12500191e+01, ...,\n",
       "        -9.15442085e+00, -1.03232279e+01, -7.39410734e+00],\n",
       "       ...,\n",
       "       [-7.82766485e+00, -5.03880405e+00, -4.48165464e+00, ...,\n",
       "        -1.90691590e-01,  4.34143829e+00,  1.00339069e+01],\n",
       "       [-1.91763425e+00, -8.02737713e-01, -1.20930421e+00, ...,\n",
       "        -1.23643339e-01,  2.90545225e-02,  9.22017097e-01],\n",
       "       [-3.88130605e-01,  3.09317827e-01,  6.72155762e+00, ...,\n",
       "        -2.33736658e+00, -4.25180149e+00, -2.31322765e+00]], dtype=float32)"
      ]
     },
     "execution_count": 24,
     "metadata": {},
     "output_type": "execute_result"
    }
   ],
   "source": [
    "mfccs"
   ]
  },
  {
   "cell_type": "code",
   "execution_count": 25,
   "metadata": {},
   "outputs": [
    {
     "data": {
      "text/html": [
       "<div>\n",
       "<style scoped>\n",
       "    .dataframe tbody tr th:only-of-type {\n",
       "        vertical-align: middle;\n",
       "    }\n",
       "\n",
       "    .dataframe tbody tr th {\n",
       "        vertical-align: top;\n",
       "    }\n",
       "\n",
       "    .dataframe thead th {\n",
       "        text-align: right;\n",
       "    }\n",
       "</style>\n",
       "<table border=\"1\" class=\"dataframe\">\n",
       "  <thead>\n",
       "    <tr style=\"text-align: right;\">\n",
       "      <th></th>\n",
       "      <th>slice_file_name</th>\n",
       "      <th>fsID</th>\n",
       "      <th>start</th>\n",
       "      <th>end</th>\n",
       "      <th>salience</th>\n",
       "      <th>fold</th>\n",
       "      <th>classID</th>\n",
       "      <th>class</th>\n",
       "    </tr>\n",
       "  </thead>\n",
       "  <tbody>\n",
       "    <tr>\n",
       "      <th>0</th>\n",
       "      <td>100032-3-0-0.wav</td>\n",
       "      <td>100032</td>\n",
       "      <td>0.0</td>\n",
       "      <td>0.317551</td>\n",
       "      <td>1</td>\n",
       "      <td>5</td>\n",
       "      <td>3</td>\n",
       "      <td>dog_bark</td>\n",
       "    </tr>\n",
       "    <tr>\n",
       "      <th>1</th>\n",
       "      <td>100263-2-0-117.wav</td>\n",
       "      <td>100263</td>\n",
       "      <td>58.5</td>\n",
       "      <td>62.500000</td>\n",
       "      <td>1</td>\n",
       "      <td>5</td>\n",
       "      <td>2</td>\n",
       "      <td>children_playing</td>\n",
       "    </tr>\n",
       "    <tr>\n",
       "      <th>2</th>\n",
       "      <td>100263-2-0-121.wav</td>\n",
       "      <td>100263</td>\n",
       "      <td>60.5</td>\n",
       "      <td>64.500000</td>\n",
       "      <td>1</td>\n",
       "      <td>5</td>\n",
       "      <td>2</td>\n",
       "      <td>children_playing</td>\n",
       "    </tr>\n",
       "    <tr>\n",
       "      <th>3</th>\n",
       "      <td>100263-2-0-126.wav</td>\n",
       "      <td>100263</td>\n",
       "      <td>63.0</td>\n",
       "      <td>67.000000</td>\n",
       "      <td>1</td>\n",
       "      <td>5</td>\n",
       "      <td>2</td>\n",
       "      <td>children_playing</td>\n",
       "    </tr>\n",
       "    <tr>\n",
       "      <th>4</th>\n",
       "      <td>100263-2-0-137.wav</td>\n",
       "      <td>100263</td>\n",
       "      <td>68.5</td>\n",
       "      <td>72.500000</td>\n",
       "      <td>1</td>\n",
       "      <td>5</td>\n",
       "      <td>2</td>\n",
       "      <td>children_playing</td>\n",
       "    </tr>\n",
       "  </tbody>\n",
       "</table>\n",
       "</div>"
      ],
      "text/plain": [
       "      slice_file_name    fsID  start        end  salience  fold  classID  \\\n",
       "0    100032-3-0-0.wav  100032    0.0   0.317551         1     5        3   \n",
       "1  100263-2-0-117.wav  100263   58.5  62.500000         1     5        2   \n",
       "2  100263-2-0-121.wav  100263   60.5  64.500000         1     5        2   \n",
       "3  100263-2-0-126.wav  100263   63.0  67.000000         1     5        2   \n",
       "4  100263-2-0-137.wav  100263   68.5  72.500000         1     5        2   \n",
       "\n",
       "              class  \n",
       "0          dog_bark  \n",
       "1  children_playing  \n",
       "2  children_playing  \n",
       "3  children_playing  \n",
       "4  children_playing  "
      ]
     },
     "execution_count": 25,
     "metadata": {},
     "output_type": "execute_result"
    }
   ],
   "source": [
    "#### Extracting MFCC's For every audio file\n",
    "import pandas as pd\n",
    "import os\n",
    "import librosa\n",
    "\n",
    "audio_dataset_path='UrbanSound8K/audio/'\n",
    "metadata=pd.read_csv('UrbanSound8K/metadata/UrbanSound8K.csv')\n",
    "metadata.head()"
   ]
  },
  {
   "cell_type": "code",
   "execution_count": 26,
   "metadata": {},
   "outputs": [],
   "source": [
    "def features_extractor(file):\n",
    "    audio, sample_rate = librosa.load(file_name, res_type='kaiser_fast') \n",
    "    mfccs_features = librosa.feature.mfcc(y=audio, sr=sample_rate, n_mfcc=40)\n",
    "    mfccs_scaled_features = np.mean(mfccs_features.T,axis=0)\n",
    "    \n",
    "    return mfccs_scaled_features"
   ]
  },
  {
   "cell_type": "code",
   "execution_count": 27,
   "metadata": {},
   "outputs": [
    {
     "name": "stderr",
     "output_type": "stream",
     "text": [
      "3554it [05:39, 11.39it/s]C:\\Users\\PRIYA LAKKU\\anaconda3\\lib\\site-packages\\librosa\\core\\spectrum.py:222: UserWarning: n_fft=2048 is too small for input signal of length=1323\n",
      "  warnings.warn(\n",
      "8325it [13:22, 14.09it/s]C:\\Users\\PRIYA LAKKU\\anaconda3\\lib\\site-packages\\librosa\\core\\spectrum.py:222: UserWarning: n_fft=2048 is too small for input signal of length=1103\n",
      "  warnings.warn(\n",
      "8328it [13:22, 16.53it/s]C:\\Users\\PRIYA LAKKU\\anaconda3\\lib\\site-packages\\librosa\\core\\spectrum.py:222: UserWarning: n_fft=2048 is too small for input signal of length=1523\n",
      "  warnings.warn(\n",
      "8732it [13:58, 10.41it/s]\n"
     ]
    }
   ],
   "source": [
    "import numpy as np\n",
    "from tqdm import tqdm\n",
    "### Now we iterate through every audio file and extract features \n",
    "### using Mel-Frequency Cepstral Coefficients\n",
    "extracted_features=[]\n",
    "for index_num,row in tqdm(metadata.iterrows()):\n",
    "    file_name = os.path.join(os.path.abspath(audio_dataset_path),'fold'+str(row[\"fold\"])+'/',str(row[\"slice_file_name\"]))\n",
    "    final_class_labels=row[\"class\"]\n",
    "    data=features_extractor(file_name)\n",
    "    extracted_features.append([data,final_class_labels])"
   ]
  },
  {
   "cell_type": "code",
   "execution_count": 28,
   "metadata": {},
   "outputs": [
    {
     "data": {
      "text/html": [
       "<div>\n",
       "<style scoped>\n",
       "    .dataframe tbody tr th:only-of-type {\n",
       "        vertical-align: middle;\n",
       "    }\n",
       "\n",
       "    .dataframe tbody tr th {\n",
       "        vertical-align: top;\n",
       "    }\n",
       "\n",
       "    .dataframe thead th {\n",
       "        text-align: right;\n",
       "    }\n",
       "</style>\n",
       "<table border=\"1\" class=\"dataframe\">\n",
       "  <thead>\n",
       "    <tr style=\"text-align: right;\">\n",
       "      <th></th>\n",
       "      <th>feature</th>\n",
       "      <th>class</th>\n",
       "    </tr>\n",
       "  </thead>\n",
       "  <tbody>\n",
       "    <tr>\n",
       "      <th>0</th>\n",
       "      <td>[-215.79301, 71.66612, -131.81377, -52.091328,...</td>\n",
       "      <td>dog_bark</td>\n",
       "    </tr>\n",
       "    <tr>\n",
       "      <th>1</th>\n",
       "      <td>[-424.68677, 110.56227, -54.148235, 62.01073, ...</td>\n",
       "      <td>children_playing</td>\n",
       "    </tr>\n",
       "    <tr>\n",
       "      <th>2</th>\n",
       "      <td>[-459.56467, 122.800354, -47.92471, 53.265694,...</td>\n",
       "      <td>children_playing</td>\n",
       "    </tr>\n",
       "    <tr>\n",
       "      <th>3</th>\n",
       "      <td>[-414.55377, 102.896904, -36.66495, 54.18041, ...</td>\n",
       "      <td>children_playing</td>\n",
       "    </tr>\n",
       "    <tr>\n",
       "      <th>4</th>\n",
       "      <td>[-447.397, 115.0954, -53.809113, 61.608585, 1....</td>\n",
       "      <td>children_playing</td>\n",
       "    </tr>\n",
       "  </tbody>\n",
       "</table>\n",
       "</div>"
      ],
      "text/plain": [
       "                                             feature             class\n",
       "0  [-215.79301, 71.66612, -131.81377, -52.091328,...          dog_bark\n",
       "1  [-424.68677, 110.56227, -54.148235, 62.01073, ...  children_playing\n",
       "2  [-459.56467, 122.800354, -47.92471, 53.265694,...  children_playing\n",
       "3  [-414.55377, 102.896904, -36.66495, 54.18041, ...  children_playing\n",
       "4  [-447.397, 115.0954, -53.809113, 61.608585, 1....  children_playing"
      ]
     },
     "execution_count": 28,
     "metadata": {},
     "output_type": "execute_result"
    }
   ],
   "source": [
    "### converting extracted_features to Pandas dataframe\n",
    "extracted_features_df=pd.DataFrame(extracted_features,columns=['feature','class'])\n",
    "extracted_features_df.head()"
   ]
  },
  {
   "cell_type": "markdown",
   "metadata": {},
   "source": [
    "# Train Test And Split"
   ]
  },
  {
   "cell_type": "code",
   "execution_count": 29,
   "metadata": {},
   "outputs": [],
   "source": [
    "### Split the dataset into independent and dependent dataset\n",
    "X=np.array(extracted_features_df['feature'].tolist())\n",
    "y=np.array(extracted_features_df['class'].tolist())"
   ]
  },
  {
   "cell_type": "code",
   "execution_count": 30,
   "metadata": {},
   "outputs": [
    {
     "data": {
      "text/plain": [
       "(8732, 40)"
      ]
     },
     "execution_count": 30,
     "metadata": {},
     "output_type": "execute_result"
    }
   ],
   "source": [
    "X.shape"
   ]
  },
  {
   "cell_type": "code",
   "execution_count": 31,
   "metadata": {},
   "outputs": [
    {
     "data": {
      "text/plain": [
       "array(['dog_bark', 'children_playing', 'children_playing', ...,\n",
       "       'car_horn', 'car_horn', 'car_horn'], dtype='<U16')"
      ]
     },
     "execution_count": 31,
     "metadata": {},
     "output_type": "execute_result"
    }
   ],
   "source": [
    "y"
   ]
  },
  {
   "cell_type": "code",
   "execution_count": 32,
   "metadata": {},
   "outputs": [],
   "source": [
    "### Label Encoding\n",
    "###y=np.array(pd.get_dummies(y))\n",
    "### Label Encoder\n",
    "from tensorflow.keras.utils import to_categorical\n",
    "from sklearn.preprocessing import LabelEncoder\n",
    "labelencoder=LabelEncoder()\n",
    "y=to_categorical(labelencoder.fit_transform(y))"
   ]
  },
  {
   "cell_type": "code",
   "execution_count": 33,
   "metadata": {},
   "outputs": [
    {
     "data": {
      "text/plain": [
       "array([[0., 0., 0., ..., 0., 0., 0.],\n",
       "       [0., 0., 1., ..., 0., 0., 0.],\n",
       "       [0., 0., 1., ..., 0., 0., 0.],\n",
       "       ...,\n",
       "       [0., 1., 0., ..., 0., 0., 0.],\n",
       "       [0., 1., 0., ..., 0., 0., 0.],\n",
       "       [0., 1., 0., ..., 0., 0., 0.]], dtype=float32)"
      ]
     },
     "execution_count": 33,
     "metadata": {},
     "output_type": "execute_result"
    }
   ],
   "source": [
    "y"
   ]
  },
  {
   "cell_type": "code",
   "execution_count": 34,
   "metadata": {},
   "outputs": [],
   "source": [
    "### Train Test Split\n",
    "from sklearn.model_selection import train_test_split\n",
    "X_train,X_test,y_train,y_test=train_test_split(X,y,test_size=0.2,random_state=0)"
   ]
  },
  {
   "cell_type": "code",
   "execution_count": 35,
   "metadata": {},
   "outputs": [
    {
     "data": {
      "text/plain": [
       "array([[-1.3183614e+02,  1.1397464e+02, -2.3956861e+01, ...,\n",
       "         3.3314774e+00, -1.4786109e+00,  2.8736603e+00],\n",
       "       [-1.4074220e+01,  9.1916939e+01, -8.6787214e+00, ...,\n",
       "        -3.3844023e+00, -5.2119040e+00, -1.5936136e+00],\n",
       "       [-4.9532028e+01,  1.5521857e-01, -2.0369110e+01, ...,\n",
       "         2.0491767e+00, -8.0537474e-01,  2.7793026e+00],\n",
       "       ...,\n",
       "       [-4.2699332e+02,  9.2890656e+01,  3.0233388e+00, ...,\n",
       "         8.6335975e-01,  6.4766806e-01,  7.8490508e-01],\n",
       "       [-1.4607024e+02,  1.3709459e+02, -3.4298344e+01, ...,\n",
       "         1.3777870e+00, -1.9530845e+00, -8.9652133e-01],\n",
       "       [-4.2167450e+02,  2.1169032e+02,  2.6820304e+00, ...,\n",
       "        -5.1484952e+00, -3.6400862e+00, -1.3321608e+00]], dtype=float32)"
      ]
     },
     "execution_count": 35,
     "metadata": {},
     "output_type": "execute_result"
    }
   ],
   "source": [
    "X_train"
   ]
  },
  {
   "cell_type": "code",
   "execution_count": 36,
   "metadata": {},
   "outputs": [
    {
     "data": {
      "text/plain": [
       "array([[0., 0., 0., ..., 0., 0., 0.],\n",
       "       [0., 0., 1., ..., 0., 0., 0.],\n",
       "       [0., 0., 1., ..., 0., 0., 0.],\n",
       "       ...,\n",
       "       [0., 1., 0., ..., 0., 0., 0.],\n",
       "       [0., 1., 0., ..., 0., 0., 0.],\n",
       "       [0., 1., 0., ..., 0., 0., 0.]], dtype=float32)"
      ]
     },
     "execution_count": 36,
     "metadata": {},
     "output_type": "execute_result"
    }
   ],
   "source": [
    "y"
   ]
  },
  {
   "cell_type": "code",
   "execution_count": 37,
   "metadata": {},
   "outputs": [
    {
     "data": {
      "text/plain": [
       "(6985, 40)"
      ]
     },
     "execution_count": 37,
     "metadata": {},
     "output_type": "execute_result"
    }
   ],
   "source": [
    "X_train.shape"
   ]
  },
  {
   "cell_type": "code",
   "execution_count": 38,
   "metadata": {},
   "outputs": [
    {
     "data": {
      "text/plain": [
       "(1747, 40)"
      ]
     },
     "execution_count": 38,
     "metadata": {},
     "output_type": "execute_result"
    }
   ],
   "source": [
    "X_test.shape"
   ]
  },
  {
   "cell_type": "code",
   "execution_count": 39,
   "metadata": {},
   "outputs": [
    {
     "data": {
      "text/plain": [
       "(6985, 10)"
      ]
     },
     "execution_count": 39,
     "metadata": {},
     "output_type": "execute_result"
    }
   ],
   "source": [
    "y_train.shape"
   ]
  },
  {
   "cell_type": "code",
   "execution_count": 40,
   "metadata": {},
   "outputs": [
    {
     "data": {
      "text/plain": [
       "(1747, 10)"
      ]
     },
     "execution_count": 40,
     "metadata": {},
     "output_type": "execute_result"
    }
   ],
   "source": [
    "y_test.shape"
   ]
  },
  {
   "cell_type": "markdown",
   "metadata": {},
   "source": [
    "# Model "
   ]
  },
  {
   "cell_type": "code",
   "execution_count": 41,
   "metadata": {},
   "outputs": [
    {
     "name": "stdout",
     "output_type": "stream",
     "text": [
      "2.7.0\n"
     ]
    }
   ],
   "source": [
    "import tensorflow as tf\n",
    "print(tf.__version__)"
   ]
  },
  {
   "cell_type": "code",
   "execution_count": 55,
   "metadata": {},
   "outputs": [],
   "source": [
    "from tensorflow.keras.models import Sequential\n",
    "from tensorflow.keras.layers import Dense,Dropout,Activation,Flatten\n",
    "from tensorflow.keras.optimizers import Adam\n",
    "from sklearn import metrics"
   ]
  },
  {
   "cell_type": "code",
   "execution_count": 43,
   "metadata": {},
   "outputs": [],
   "source": [
    "### No of classes\n",
    "num_labels=y.shape[1]"
   ]
  },
  {
   "cell_type": "code",
   "execution_count": 44,
   "metadata": {},
   "outputs": [
    {
     "ename": "TypeError",
     "evalue": "__init__() missing 1 required positional argument: 'units'",
     "output_type": "error",
     "traceback": [
      "\u001b[1;31m---------------------------------------------------------------------------\u001b[0m",
      "\u001b[1;31mTypeError\u001b[0m                                 Traceback (most recent call last)",
      "\u001b[1;32m<ipython-input-44-64d9be07faf3>\u001b[0m in \u001b[0;36m<module>\u001b[1;34m\u001b[0m\n\u001b[1;32m----> 1\u001b[1;33m \u001b[0mDense\u001b[0m\u001b[1;33m(\u001b[0m\u001b[1;33m)\u001b[0m\u001b[1;33m\u001b[0m\u001b[1;33m\u001b[0m\u001b[0m\n\u001b[0m",
      "\u001b[1;31mTypeError\u001b[0m: __init__() missing 1 required positional argument: 'units'"
     ]
    }
   ],
   "source": [
    "Dense()"
   ]
  },
  {
   "cell_type": "code",
   "execution_count": 45,
   "metadata": {},
   "outputs": [],
   "source": [
    "model=Sequential()\n",
    "###first layer\n",
    "model.add(Dense(256,input_shape=(40,)))\n",
    "model.add(Activation('relu'))\n",
    "model.add(Dropout(0.5))\n",
    "###second layer\n",
    "model.add(Dense(256))\n",
    "model.add(Activation('relu'))\n",
    "model.add(Dropout(0.5))\n",
    "###third layer\n",
    "model.add(Dense(256))\n",
    "model.add(Activation('relu'))\n",
    "model.add(Dropout(0.5))\n",
    "\n",
    "###final layer\n",
    "model.add(Dense(num_labels))\n",
    "model.add(Activation('softmax'))"
   ]
  },
  {
   "cell_type": "code",
   "execution_count": 46,
   "metadata": {},
   "outputs": [
    {
     "name": "stdout",
     "output_type": "stream",
     "text": [
      "Model: \"sequential\"\n",
      "_________________________________________________________________\n",
      " Layer (type)                Output Shape              Param #   \n",
      "=================================================================\n",
      " dense (Dense)               (None, 256)               10496     \n",
      "                                                                 \n",
      " activation (Activation)     (None, 256)               0         \n",
      "                                                                 \n",
      " dropout (Dropout)           (None, 256)               0         \n",
      "                                                                 \n",
      " dense_1 (Dense)             (None, 256)               65792     \n",
      "                                                                 \n",
      " activation_1 (Activation)   (None, 256)               0         \n",
      "                                                                 \n",
      " dropout_1 (Dropout)         (None, 256)               0         \n",
      "                                                                 \n",
      " dense_2 (Dense)             (None, 256)               65792     \n",
      "                                                                 \n",
      " activation_2 (Activation)   (None, 256)               0         \n",
      "                                                                 \n",
      " dropout_2 (Dropout)         (None, 256)               0         \n",
      "                                                                 \n",
      " dense_3 (Dense)             (None, 10)                2570      \n",
      "                                                                 \n",
      " activation_3 (Activation)   (None, 10)                0         \n",
      "                                                                 \n",
      "=================================================================\n",
      "Total params: 144,650\n",
      "Trainable params: 144,650\n",
      "Non-trainable params: 0\n",
      "_________________________________________________________________\n"
     ]
    }
   ],
   "source": [
    "model.summary()"
   ]
  },
  {
   "cell_type": "code",
   "execution_count": 47,
   "metadata": {},
   "outputs": [],
   "source": [
    "model.compile(loss='categorical_crossentropy',metrics=['accuracy'],optimizer='adam')"
   ]
  },
  {
   "cell_type": "code",
   "execution_count": 48,
   "metadata": {},
   "outputs": [
    {
     "name": "stdout",
     "output_type": "stream",
     "text": [
      "Epoch 1/100\n",
      "213/219 [============================>.] - ETA: 0s - loss: 8.0648 - accuracy: 0.1466\n",
      "Epoch 00001: val_loss improved from inf to 2.11556, saving model to saved_models\\audio_classification.hdf5\n",
      "219/219 [==============================] - 3s 11ms/step - loss: 7.9324 - accuracy: 0.1477 - val_loss: 2.1156 - val_accuracy: 0.2490\n",
      "Epoch 2/100\n",
      "218/219 [============================>.] - ETA: 0s - loss: 2.4429 - accuracy: 0.2084\n",
      "Epoch 00002: val_loss improved from 2.11556 to 2.03347, saving model to saved_models\\audio_classification.hdf5\n",
      "219/219 [==============================] - 2s 10ms/step - loss: 2.4424 - accuracy: 0.2084 - val_loss: 2.0335 - val_accuracy: 0.3108\n",
      "Epoch 3/100\n",
      "211/219 [===========================>..] - ETA: 0s - loss: 2.1560 - accuracy: 0.2435\n",
      "Epoch 00003: val_loss improved from 2.03347 to 1.92179, saving model to saved_models\\audio_classification.hdf5\n",
      "219/219 [==============================] - 2s 9ms/step - loss: 2.1556 - accuracy: 0.2440 - val_loss: 1.9218 - val_accuracy: 0.3658\n",
      "Epoch 4/100\n",
      "218/219 [============================>.] - ETA: 0s - loss: 1.9965 - accuracy: 0.2954\n",
      "Epoch 00004: val_loss improved from 1.92179 to 1.82244, saving model to saved_models\\audio_classification.hdf5\n",
      "219/219 [==============================] - 2s 8ms/step - loss: 1.9957 - accuracy: 0.2956 - val_loss: 1.8224 - val_accuracy: 0.4247\n",
      "Epoch 5/100\n",
      "214/219 [============================>.] - ETA: 0s - loss: 1.8612 - accuracy: 0.3493\n",
      "Epoch 00005: val_loss improved from 1.82244 to 1.69615, saving model to saved_models\\audio_classification.hdf5\n",
      "219/219 [==============================] - 2s 10ms/step - loss: 1.8608 - accuracy: 0.3496 - val_loss: 1.6962 - val_accuracy: 0.4803\n",
      "Epoch 6/100\n",
      "212/219 [============================>.] - ETA: 0s - loss: 1.7590 - accuracy: 0.3809\n",
      "Epoch 00006: val_loss improved from 1.69615 to 1.57886, saving model to saved_models\\audio_classification.hdf5\n",
      "219/219 [==============================] - 2s 9ms/step - loss: 1.7545 - accuracy: 0.3822 - val_loss: 1.5789 - val_accuracy: 0.5112\n",
      "Epoch 7/100\n",
      "213/219 [============================>.] - ETA: 0s - loss: 1.6402 - accuracy: 0.4230\n",
      "Epoch 00007: val_loss improved from 1.57886 to 1.45323, saving model to saved_models\\audio_classification.hdf5\n",
      "219/219 [==============================] - 2s 8ms/step - loss: 1.6380 - accuracy: 0.4245 - val_loss: 1.4532 - val_accuracy: 0.5409\n",
      "Epoch 8/100\n",
      "215/219 [============================>.] - ETA: 0s - loss: 1.5765 - accuracy: 0.4622\n",
      "Epoch 00008: val_loss improved from 1.45323 to 1.37549, saving model to saved_models\\audio_classification.hdf5\n",
      "219/219 [==============================] - 2s 8ms/step - loss: 1.5755 - accuracy: 0.4613 - val_loss: 1.3755 - val_accuracy: 0.5724\n",
      "Epoch 9/100\n",
      "214/219 [============================>.] - ETA: 0s - loss: 1.5012 - accuracy: 0.4873\n",
      "Epoch 00009: val_loss improved from 1.37549 to 1.27981, saving model to saved_models\\audio_classification.hdf5\n",
      "219/219 [==============================] - 2s 8ms/step - loss: 1.4997 - accuracy: 0.4869 - val_loss: 1.2798 - val_accuracy: 0.6079\n",
      "Epoch 10/100\n",
      "212/219 [============================>.] - ETA: 0s - loss: 1.4225 - accuracy: 0.5223\n",
      "Epoch 00010: val_loss improved from 1.27981 to 1.23117, saving model to saved_models\\audio_classification.hdf5\n",
      "219/219 [==============================] - 2s 8ms/step - loss: 1.4225 - accuracy: 0.5224 - val_loss: 1.2312 - val_accuracy: 0.6193\n",
      "Epoch 11/100\n",
      "213/219 [============================>.] - ETA: 0s - loss: 1.3686 - accuracy: 0.5469\n",
      "Epoch 00011: val_loss improved from 1.23117 to 1.18756, saving model to saved_models\\audio_classification.hdf5\n",
      "219/219 [==============================] - 2s 8ms/step - loss: 1.3681 - accuracy: 0.5462 - val_loss: 1.1876 - val_accuracy: 0.6211\n",
      "Epoch 12/100\n",
      "214/219 [============================>.] - ETA: 0s - loss: 1.3135 - accuracy: 0.5584\n",
      "Epoch 00012: val_loss improved from 1.18756 to 1.11254, saving model to saved_models\\audio_classification.hdf5\n",
      "219/219 [==============================] - 2s 8ms/step - loss: 1.3149 - accuracy: 0.5571 - val_loss: 1.1125 - val_accuracy: 0.6491\n",
      "Epoch 13/100\n",
      "218/219 [============================>.] - ETA: 0s - loss: 1.2522 - accuracy: 0.5757\n",
      "Epoch 00013: val_loss improved from 1.11254 to 1.05050, saving model to saved_models\\audio_classification.hdf5\n",
      "219/219 [==============================] - 2s 8ms/step - loss: 1.2519 - accuracy: 0.5759 - val_loss: 1.0505 - val_accuracy: 0.6646\n",
      "Epoch 14/100\n",
      "211/219 [===========================>..] - ETA: 0s - loss: 1.2326 - accuracy: 0.5825\n",
      "Epoch 00014: val_loss improved from 1.05050 to 1.02813, saving model to saved_models\\audio_classification.hdf5\n",
      "219/219 [==============================] - 2s 8ms/step - loss: 1.2310 - accuracy: 0.5831 - val_loss: 1.0281 - val_accuracy: 0.6703\n",
      "Epoch 15/100\n",
      "218/219 [============================>.] - ETA: 0s - loss: 1.1926 - accuracy: 0.6012\n",
      "Epoch 00015: val_loss improved from 1.02813 to 1.00434, saving model to saved_models\\audio_classification.hdf5\n",
      "219/219 [==============================] - 2s 8ms/step - loss: 1.1923 - accuracy: 0.6011 - val_loss: 1.0043 - val_accuracy: 0.6720\n",
      "Epoch 16/100\n",
      "212/219 [============================>.] - ETA: 0s - loss: 1.1755 - accuracy: 0.6098\n",
      "Epoch 00016: val_loss improved from 1.00434 to 0.96869, saving model to saved_models\\audio_classification.hdf5\n",
      "219/219 [==============================] - 2s 8ms/step - loss: 1.1764 - accuracy: 0.6089 - val_loss: 0.9687 - val_accuracy: 0.7018\n",
      "Epoch 17/100\n",
      "217/219 [============================>.] - ETA: 0s - loss: 1.1191 - accuracy: 0.6238\n",
      "Epoch 00017: val_loss improved from 0.96869 to 0.92494, saving model to saved_models\\audio_classification.hdf5\n",
      "219/219 [==============================] - 2s 7ms/step - loss: 1.1195 - accuracy: 0.6238 - val_loss: 0.9249 - val_accuracy: 0.7127\n",
      "Epoch 18/100\n",
      "211/219 [===========================>..] - ETA: 0s - loss: 1.1205 - accuracy: 0.6318\n",
      "Epoch 00018: val_loss improved from 0.92494 to 0.89672, saving model to saved_models\\audio_classification.hdf5\n",
      "219/219 [==============================] - 2s 8ms/step - loss: 1.1203 - accuracy: 0.6331 - val_loss: 0.8967 - val_accuracy: 0.7155\n",
      "Epoch 19/100\n",
      "217/219 [============================>.] - ETA: 0s - loss: 1.0596 - accuracy: 0.6424\n",
      "Epoch 00019: val_loss did not improve from 0.89672\n",
      "219/219 [==============================] - 1s 7ms/step - loss: 1.0612 - accuracy: 0.6415 - val_loss: 0.9146 - val_accuracy: 0.6995\n",
      "Epoch 20/100\n",
      "210/219 [===========================>..] - ETA: 0s - loss: 1.0522 - accuracy: 0.6442\n",
      "Epoch 00020: val_loss improved from 0.89672 to 0.87438, saving model to saved_models\\audio_classification.hdf5\n",
      "219/219 [==============================] - 2s 7ms/step - loss: 1.0544 - accuracy: 0.6437 - val_loss: 0.8744 - val_accuracy: 0.7127\n",
      "Epoch 21/100\n",
      "212/219 [============================>.] - ETA: 0s - loss: 1.0234 - accuracy: 0.6555\n",
      "Epoch 00021: val_loss improved from 0.87438 to 0.84826, saving model to saved_models\\audio_classification.hdf5\n",
      "219/219 [==============================] - 2s 8ms/step - loss: 1.0219 - accuracy: 0.6567 - val_loss: 0.8483 - val_accuracy: 0.7413\n",
      "Epoch 22/100\n",
      "214/219 [============================>.] - ETA: 0s - loss: 1.0228 - accuracy: 0.6638\n",
      "Epoch 00022: val_loss improved from 0.84826 to 0.84037, saving model to saved_models\\audio_classification.hdf5\n",
      "219/219 [==============================] - 2s 7ms/step - loss: 1.0241 - accuracy: 0.6639 - val_loss: 0.8404 - val_accuracy: 0.7264\n",
      "Epoch 23/100\n",
      "211/219 [===========================>..] - ETA: 0s - loss: 1.0074 - accuracy: 0.6620\n",
      "Epoch 00023: val_loss improved from 0.84037 to 0.80936, saving model to saved_models\\audio_classification.hdf5\n",
      "219/219 [==============================] - 2s 8ms/step - loss: 1.0040 - accuracy: 0.6643 - val_loss: 0.8094 - val_accuracy: 0.7516\n",
      "Epoch 24/100\n",
      "214/219 [============================>.] - ETA: 0s - loss: 0.9700 - accuracy: 0.6736\n",
      "Epoch 00024: val_loss improved from 0.80936 to 0.78548, saving model to saved_models\\audio_classification.hdf5\n",
      "219/219 [==============================] - 2s 8ms/step - loss: 0.9708 - accuracy: 0.6744 - val_loss: 0.7855 - val_accuracy: 0.7619\n",
      "Epoch 25/100\n",
      "215/219 [============================>.] - ETA: 0s - loss: 0.9490 - accuracy: 0.6827\n",
      "Epoch 00025: val_loss improved from 0.78548 to 0.75868, saving model to saved_models\\audio_classification.hdf5\n",
      "219/219 [==============================] - 2s 10ms/step - loss: 0.9518 - accuracy: 0.6832 - val_loss: 0.7587 - val_accuracy: 0.7687\n",
      "Epoch 26/100\n",
      "214/219 [============================>.] - ETA: 0s - loss: 0.9303 - accuracy: 0.6966\n",
      "Epoch 00026: val_loss did not improve from 0.75868\n",
      "219/219 [==============================] - 2s 10ms/step - loss: 0.9290 - accuracy: 0.6976 - val_loss: 0.7700 - val_accuracy: 0.7539\n",
      "Epoch 27/100\n",
      "219/219 [==============================] - ETA: 0s - loss: 0.9266 - accuracy: 0.6905\n",
      "Epoch 00027: val_loss improved from 0.75868 to 0.74706, saving model to saved_models\\audio_classification.hdf5\n",
      "219/219 [==============================] - 2s 10ms/step - loss: 0.9266 - accuracy: 0.6905 - val_loss: 0.7471 - val_accuracy: 0.7676\n",
      "Epoch 28/100\n",
      "218/219 [============================>.] - ETA: 0s - loss: 0.8966 - accuracy: 0.7040\n",
      "Epoch 00028: val_loss improved from 0.74706 to 0.71811, saving model to saved_models\\audio_classification.hdf5\n",
      "219/219 [==============================] - 2s 9ms/step - loss: 0.8970 - accuracy: 0.7037 - val_loss: 0.7181 - val_accuracy: 0.7659\n",
      "Epoch 29/100\n",
      "218/219 [============================>.] - ETA: 0s - loss: 0.9047 - accuracy: 0.6971\n",
      "Epoch 00029: val_loss improved from 0.71811 to 0.69857, saving model to saved_models\\audio_classification.hdf5\n",
      "219/219 [==============================] - 1s 7ms/step - loss: 0.9040 - accuracy: 0.6974 - val_loss: 0.6986 - val_accuracy: 0.7853\n",
      "Epoch 30/100\n",
      "219/219 [==============================] - ETA: 0s - loss: 0.8905 - accuracy: 0.7009\n",
      "Epoch 00030: val_loss did not improve from 0.69857\n",
      "219/219 [==============================] - 2s 8ms/step - loss: 0.8905 - accuracy: 0.7009 - val_loss: 0.7007 - val_accuracy: 0.7859\n",
      "Epoch 31/100\n",
      "213/219 [============================>.] - ETA: 0s - loss: 0.8779 - accuracy: 0.7032\n",
      "Epoch 00031: val_loss did not improve from 0.69857\n",
      "219/219 [==============================] - 2s 10ms/step - loss: 0.8766 - accuracy: 0.7031 - val_loss: 0.7094 - val_accuracy: 0.7865\n",
      "Epoch 32/100\n",
      "217/219 [============================>.] - ETA: 0s - loss: 0.8460 - accuracy: 0.7183\n",
      "Epoch 00032: val_loss improved from 0.69857 to 0.68599, saving model to saved_models\\audio_classification.hdf5\n",
      "219/219 [==============================] - 2s 11ms/step - loss: 0.8446 - accuracy: 0.7188 - val_loss: 0.6860 - val_accuracy: 0.7813\n",
      "Epoch 33/100\n",
      "215/219 [============================>.] - ETA: 0s - loss: 0.8398 - accuracy: 0.7164\n",
      "Epoch 00033: val_loss improved from 0.68599 to 0.66991, saving model to saved_models\\audio_classification.hdf5\n",
      "219/219 [==============================] - 2s 9ms/step - loss: 0.8399 - accuracy: 0.7165 - val_loss: 0.6699 - val_accuracy: 0.7956\n",
      "Epoch 34/100\n",
      "217/219 [============================>.] - ETA: 0s - loss: 0.8612 - accuracy: 0.7136\n",
      "Epoch 00034: val_loss improved from 0.66991 to 0.66635, saving model to saved_models\\audio_classification.hdf5\n",
      "219/219 [==============================] - 2s 8ms/step - loss: 0.8616 - accuracy: 0.7134 - val_loss: 0.6663 - val_accuracy: 0.8014\n",
      "Epoch 35/100\n",
      "211/219 [===========================>..] - ETA: 0s - loss: 0.8201 - accuracy: 0.7293\n",
      "Epoch 00035: val_loss did not improve from 0.66635\n",
      "219/219 [==============================] - 2s 9ms/step - loss: 0.8216 - accuracy: 0.7283 - val_loss: 0.6676 - val_accuracy: 0.8031\n",
      "Epoch 36/100\n",
      "219/219 [==============================] - ETA: 0s - loss: 0.8340 - accuracy: 0.7231\n",
      "Epoch 00036: val_loss did not improve from 0.66635\n",
      "219/219 [==============================] - 2s 7ms/step - loss: 0.8340 - accuracy: 0.7231 - val_loss: 0.6676 - val_accuracy: 0.7997\n",
      "Epoch 37/100\n",
      "212/219 [============================>.] - ETA: 0s - loss: 0.8040 - accuracy: 0.7372\n",
      "Epoch 00037: val_loss did not improve from 0.66635\n",
      "219/219 [==============================] - 2s 7ms/step - loss: 0.8058 - accuracy: 0.7357 - val_loss: 0.6692 - val_accuracy: 0.7962\n",
      "Epoch 38/100\n",
      "219/219 [==============================] - ETA: 0s - loss: 0.7937 - accuracy: 0.7304\n",
      "Epoch 00038: val_loss improved from 0.66635 to 0.63966, saving model to saved_models\\audio_classification.hdf5\n",
      "219/219 [==============================] - 2s 7ms/step - loss: 0.7937 - accuracy: 0.7304 - val_loss: 0.6397 - val_accuracy: 0.8037\n",
      "Epoch 39/100\n",
      "211/219 [===========================>..] - ETA: 0s - loss: 0.8080 - accuracy: 0.7330\n",
      "Epoch 00039: val_loss did not improve from 0.63966\n",
      "219/219 [==============================] - 1s 6ms/step - loss: 0.8123 - accuracy: 0.7314 - val_loss: 0.6403 - val_accuracy: 0.8168\n",
      "Epoch 40/100\n",
      "215/219 [============================>.] - ETA: 0s - loss: 0.8102 - accuracy: 0.7256\n",
      "Epoch 00040: val_loss improved from 0.63966 to 0.63250, saving model to saved_models\\audio_classification.hdf5\n",
      "219/219 [==============================] - 2s 8ms/step - loss: 0.8099 - accuracy: 0.7256 - val_loss: 0.6325 - val_accuracy: 0.8008\n",
      "Epoch 41/100\n",
      "213/219 [============================>.] - ETA: 0s - loss: 0.7882 - accuracy: 0.7380\n",
      "Epoch 00041: val_loss improved from 0.63250 to 0.63041, saving model to saved_models\\audio_classification.hdf5\n",
      "219/219 [==============================] - 2s 8ms/step - loss: 0.7868 - accuracy: 0.7383 - val_loss: 0.6304 - val_accuracy: 0.8071\n",
      "Epoch 42/100\n",
      "216/219 [============================>.] - ETA: 0s - loss: 0.7563 - accuracy: 0.7464\n",
      "Epoch 00042: val_loss improved from 0.63041 to 0.58782, saving model to saved_models\\audio_classification.hdf5\n",
      "219/219 [==============================] - 2s 9ms/step - loss: 0.7582 - accuracy: 0.7452 - val_loss: 0.5878 - val_accuracy: 0.8163\n",
      "Epoch 43/100\n",
      "217/219 [============================>.] - ETA: 0s - loss: 0.7711 - accuracy: 0.7427\n",
      "Epoch 00043: val_loss did not improve from 0.58782\n",
      "219/219 [==============================] - 2s 9ms/step - loss: 0.7719 - accuracy: 0.7422 - val_loss: 0.6338 - val_accuracy: 0.8008\n",
      "Epoch 44/100\n",
      "211/219 [===========================>..] - ETA: 0s - loss: 0.7501 - accuracy: 0.7559\n",
      "Epoch 00044: val_loss did not improve from 0.58782\n",
      "219/219 [==============================] - 1s 6ms/step - loss: 0.7503 - accuracy: 0.7546 - val_loss: 0.6161 - val_accuracy: 0.8071\n",
      "Epoch 45/100\n",
      "210/219 [===========================>..] - ETA: 0s - loss: 0.7664 - accuracy: 0.7452\n",
      "Epoch 00045: val_loss did not improve from 0.58782\n",
      "219/219 [==============================] - 2s 8ms/step - loss: 0.7637 - accuracy: 0.7457 - val_loss: 0.6411 - val_accuracy: 0.7911\n",
      "Epoch 46/100\n",
      "219/219 [==============================] - ETA: 0s - loss: 0.7599 - accuracy: 0.7485\n",
      "Epoch 00046: val_loss did not improve from 0.58782\n",
      "219/219 [==============================] - 1s 6ms/step - loss: 0.7599 - accuracy: 0.7485 - val_loss: 0.6143 - val_accuracy: 0.8174\n",
      "Epoch 47/100\n",
      "217/219 [============================>.] - ETA: 0s - loss: 0.7223 - accuracy: 0.7612\n",
      "Epoch 00047: val_loss improved from 0.58782 to 0.58681, saving model to saved_models\\audio_classification.hdf5\n",
      "219/219 [==============================] - 2s 11ms/step - loss: 0.7215 - accuracy: 0.7613 - val_loss: 0.5868 - val_accuracy: 0.8168\n",
      "Epoch 48/100\n",
      "216/219 [============================>.] - ETA: 0s - loss: 0.7446 - accuracy: 0.7497\n",
      "Epoch 00048: val_loss did not improve from 0.58681\n",
      "219/219 [==============================] - 2s 8ms/step - loss: 0.7436 - accuracy: 0.7499 - val_loss: 0.5901 - val_accuracy: 0.8231\n",
      "Epoch 49/100\n",
      "215/219 [============================>.] - ETA: 0s - loss: 0.7334 - accuracy: 0.7563\n",
      "Epoch 00049: val_loss did not improve from 0.58681\n",
      "219/219 [==============================] - 1s 6ms/step - loss: 0.7340 - accuracy: 0.7556 - val_loss: 0.5928 - val_accuracy: 0.8174\n",
      "Epoch 50/100\n",
      "215/219 [============================>.] - ETA: 0s - loss: 0.7594 - accuracy: 0.7506\n",
      "Epoch 00050: val_loss did not improve from 0.58681\n",
      "219/219 [==============================] - 2s 9ms/step - loss: 0.7622 - accuracy: 0.7502 - val_loss: 0.5938 - val_accuracy: 0.8203\n",
      "Epoch 51/100\n",
      "212/219 [============================>.] - ETA: 0s - loss: 0.7200 - accuracy: 0.7628\n",
      "Epoch 00051: val_loss improved from 0.58681 to 0.58032, saving model to saved_models\\audio_classification.hdf5\n",
      "219/219 [==============================] - 2s 9ms/step - loss: 0.7220 - accuracy: 0.7618 - val_loss: 0.5803 - val_accuracy: 0.8128\n",
      "Epoch 52/100\n",
      "210/219 [===========================>..] - ETA: 0s - loss: 0.6963 - accuracy: 0.7765\n",
      "Epoch 00052: val_loss improved from 0.58032 to 0.57019, saving model to saved_models\\audio_classification.hdf5\n",
      "219/219 [==============================] - 2s 8ms/step - loss: 0.7013 - accuracy: 0.7742 - val_loss: 0.5702 - val_accuracy: 0.8266\n",
      "Epoch 53/100\n",
      "216/219 [============================>.] - ETA: 0s - loss: 0.7190 - accuracy: 0.7626\n",
      "Epoch 00053: val_loss improved from 0.57019 to 0.56234, saving model to saved_models\\audio_classification.hdf5\n",
      "219/219 [==============================] - 2s 10ms/step - loss: 0.7171 - accuracy: 0.7631 - val_loss: 0.5623 - val_accuracy: 0.8231\n",
      "Epoch 54/100\n",
      "214/219 [============================>.] - ETA: 0s - loss: 0.7139 - accuracy: 0.7623\n",
      "Epoch 00054: val_loss did not improve from 0.56234\n",
      "219/219 [==============================] - 1s 7ms/step - loss: 0.7204 - accuracy: 0.7602 - val_loss: 0.5753 - val_accuracy: 0.8208\n",
      "Epoch 55/100\n",
      "217/219 [============================>.] - ETA: 0s - loss: 0.7212 - accuracy: 0.7661\n",
      "Epoch 00055: val_loss did not improve from 0.56234\n",
      "219/219 [==============================] - 1s 7ms/step - loss: 0.7213 - accuracy: 0.7659 - val_loss: 0.5698 - val_accuracy: 0.8226\n",
      "Epoch 56/100\n",
      "218/219 [============================>.] - ETA: 0s - loss: 0.7008 - accuracy: 0.7662\n",
      "Epoch 00056: val_loss improved from 0.56234 to 0.54688, saving model to saved_models\\audio_classification.hdf5\n",
      "219/219 [==============================] - 2s 8ms/step - loss: 0.7010 - accuracy: 0.7664 - val_loss: 0.5469 - val_accuracy: 0.8231\n",
      "Epoch 57/100\n",
      "216/219 [============================>.] - ETA: 0s - loss: 0.7273 - accuracy: 0.7552\n",
      "Epoch 00057: val_loss did not improve from 0.54688\n",
      "219/219 [==============================] - 2s 9ms/step - loss: 0.7271 - accuracy: 0.7552 - val_loss: 0.5711 - val_accuracy: 0.8180\n",
      "Epoch 58/100\n",
      "215/219 [============================>.] - ETA: 0s - loss: 0.6988 - accuracy: 0.7759\n",
      "Epoch 00058: val_loss did not improve from 0.54688\n",
      "219/219 [==============================] - 2s 10ms/step - loss: 0.7000 - accuracy: 0.7757 - val_loss: 0.5702 - val_accuracy: 0.8260\n",
      "Epoch 59/100\n",
      "215/219 [============================>.] - ETA: 0s - loss: 0.7159 - accuracy: 0.7680\n",
      "Epoch 00059: val_loss did not improve from 0.54688\n",
      "219/219 [==============================] - 2s 10ms/step - loss: 0.7149 - accuracy: 0.7681 - val_loss: 0.5662 - val_accuracy: 0.8208\n",
      "Epoch 60/100\n",
      "219/219 [==============================] - ETA: 0s - loss: 0.6947 - accuracy: 0.7675\n",
      "Epoch 00060: val_loss did not improve from 0.54688\n",
      "219/219 [==============================] - 2s 8ms/step - loss: 0.6947 - accuracy: 0.7675 - val_loss: 0.5499 - val_accuracy: 0.8283\n",
      "Epoch 61/100\n",
      "219/219 [==============================] - ETA: 0s - loss: 0.6910 - accuracy: 0.7678\n",
      "Epoch 00061: val_loss improved from 0.54688 to 0.52400, saving model to saved_models\\audio_classification.hdf5\n",
      "219/219 [==============================] - 3s 12ms/step - loss: 0.6910 - accuracy: 0.7678 - val_loss: 0.5240 - val_accuracy: 0.8380\n",
      "Epoch 62/100\n",
      "219/219 [==============================] - ETA: 0s - loss: 0.6884 - accuracy: 0.7762\n",
      "Epoch 00062: val_loss did not improve from 0.52400\n",
      "219/219 [==============================] - 2s 10ms/step - loss: 0.6884 - accuracy: 0.7762 - val_loss: 0.5668 - val_accuracy: 0.8203\n",
      "Epoch 63/100\n",
      "216/219 [============================>.] - ETA: 0s - loss: 0.6934 - accuracy: 0.7695\n",
      "Epoch 00063: val_loss did not improve from 0.52400\n",
      "219/219 [==============================] - 2s 10ms/step - loss: 0.6938 - accuracy: 0.7695 - val_loss: 0.5375 - val_accuracy: 0.8323\n",
      "Epoch 64/100\n",
      "213/219 [============================>.] - ETA: 0s - loss: 0.6868 - accuracy: 0.7730\n",
      "Epoch 00064: val_loss did not improve from 0.52400\n",
      "219/219 [==============================] - 2s 10ms/step - loss: 0.6866 - accuracy: 0.7734 - val_loss: 0.5420 - val_accuracy: 0.8288\n",
      "Epoch 65/100\n",
      "213/219 [============================>.] - ETA: 0s - loss: 0.6800 - accuracy: 0.7726\n",
      "Epoch 00065: val_loss did not improve from 0.52400\n",
      "219/219 [==============================] - 2s 8ms/step - loss: 0.6785 - accuracy: 0.7729 - val_loss: 0.5400 - val_accuracy: 0.8237\n",
      "Epoch 66/100\n",
      "211/219 [===========================>..] - ETA: 0s - loss: 0.6811 - accuracy: 0.77 - ETA: 0s - loss: 0.6871 - accuracy: 0.7746\n",
      "Epoch 00066: val_loss did not improve from 0.52400\n",
      "219/219 [==============================] - 1s 5ms/step - loss: 0.6854 - accuracy: 0.7751 - val_loss: 0.5404 - val_accuracy: 0.8397\n",
      "Epoch 67/100\n",
      "216/219 [============================>.] - ETA: 0s - loss: 0.6638 - accuracy: 0.7815\n",
      "Epoch 00067: val_loss improved from 0.52400 to 0.52185, saving model to saved_models\\audio_classification.hdf5\n",
      "219/219 [==============================] - 1s 7ms/step - loss: 0.6646 - accuracy: 0.7810 - val_loss: 0.5218 - val_accuracy: 0.8535\n",
      "Epoch 68/100\n",
      "217/219 [============================>.] - ETA: 0s - loss: 0.6690 - accuracy: 0.7776\n",
      "Epoch 00068: val_loss did not improve from 0.52185\n",
      "219/219 [==============================] - 2s 8ms/step - loss: 0.6671 - accuracy: 0.7782 - val_loss: 0.5234 - val_accuracy: 0.8454\n",
      "Epoch 69/100\n",
      "218/219 [============================>.] - ETA: 0s - loss: 0.6707 - accuracy: 0.7840\n",
      "Epoch 00069: val_loss did not improve from 0.52185\n",
      "219/219 [==============================] - 2s 8ms/step - loss: 0.6710 - accuracy: 0.7840 - val_loss: 0.5541 - val_accuracy: 0.8420\n",
      "Epoch 70/100\n",
      "212/219 [============================>.] - ETA: 0s - loss: 0.6765 - accuracy: 0.7752\n",
      "Epoch 00070: val_loss improved from 0.52185 to 0.52173, saving model to saved_models\\audio_classification.hdf5\n",
      "219/219 [==============================] - 1s 6ms/step - loss: 0.6742 - accuracy: 0.7772 - val_loss: 0.5217 - val_accuracy: 0.8443\n",
      "Epoch 71/100\n",
      "214/219 [============================>.] - ETA: 0s - loss: 0.6545 - accuracy: 0.7891\n",
      "Epoch 00071: val_loss did not improve from 0.52173\n",
      "219/219 [==============================] - 2s 7ms/step - loss: 0.6570 - accuracy: 0.7887 - val_loss: 0.5332 - val_accuracy: 0.8392\n",
      "Epoch 72/100\n",
      "215/219 [============================>.] - ETA: 0s - loss: 0.6439 - accuracy: 0.7849\n",
      "Epoch 00072: val_loss did not improve from 0.52173\n",
      "219/219 [==============================] - 1s 7ms/step - loss: 0.6450 - accuracy: 0.7841 - val_loss: 0.5271 - val_accuracy: 0.8472\n",
      "Epoch 73/100\n",
      "211/219 [===========================>..] - ETA: 0s - loss: 0.6745 - accuracy: 0.7836\n",
      "Epoch 00073: val_loss improved from 0.52173 to 0.51736, saving model to saved_models\\audio_classification.hdf5\n",
      "219/219 [==============================] - 1s 7ms/step - loss: 0.6706 - accuracy: 0.7835 - val_loss: 0.5174 - val_accuracy: 0.8306\n",
      "Epoch 74/100\n",
      "215/219 [============================>.] - ETA: 0s - loss: 0.6277 - accuracy: 0.7946\n",
      "Epoch 00074: val_loss did not improve from 0.51736\n",
      "219/219 [==============================] - 1s 7ms/step - loss: 0.6285 - accuracy: 0.7944 - val_loss: 0.5188 - val_accuracy: 0.8346\n",
      "Epoch 75/100\n",
      "212/219 [============================>.] - ETA: 0s - loss: 0.6400 - accuracy: 0.7913\n",
      "Epoch 00075: val_loss improved from 0.51736 to 0.50543, saving model to saved_models\\audio_classification.hdf5\n",
      "219/219 [==============================] - 2s 7ms/step - loss: 0.6417 - accuracy: 0.7911 - val_loss: 0.5054 - val_accuracy: 0.8495\n",
      "Epoch 76/100\n",
      "215/219 [============================>.] - ETA: 0s - loss: 0.6544 - accuracy: 0.7782 ETA: 0s - loss: 0.638\n",
      "Epoch 00076: val_loss improved from 0.50543 to 0.49721, saving model to saved_models\\audio_classification.hdf5\n",
      "219/219 [==============================] - 2s 8ms/step - loss: 0.6537 - accuracy: 0.7782 - val_loss: 0.4972 - val_accuracy: 0.8506\n",
      "Epoch 77/100\n",
      "213/219 [============================>.] - ETA: 0s - loss: 0.6507 - accuracy: 0.7893\n",
      "Epoch 00077: val_loss did not improve from 0.49721\n",
      "219/219 [==============================] - 1s 7ms/step - loss: 0.6499 - accuracy: 0.7884 - val_loss: 0.5069 - val_accuracy: 0.8466\n",
      "Epoch 78/100\n",
      "214/219 [============================>.] - ETA: 0s - loss: 0.6574 - accuracy: 0.7890\n",
      "Epoch 00078: val_loss improved from 0.49721 to 0.49176, saving model to saved_models\\audio_classification.hdf5\n",
      "219/219 [==============================] - 1s 7ms/step - loss: 0.6539 - accuracy: 0.7897 - val_loss: 0.4918 - val_accuracy: 0.8506\n",
      "Epoch 79/100\n",
      "219/219 [==============================] - ETA: 0s - loss: 0.6488 - accuracy: 0.7911\n",
      "Epoch 00079: val_loss did not improve from 0.49176\n",
      "219/219 [==============================] - 2s 7ms/step - loss: 0.6488 - accuracy: 0.7911 - val_loss: 0.5093 - val_accuracy: 0.8454\n",
      "Epoch 80/100\n",
      "214/219 [============================>.] - ETA: 0s - loss: 0.6428 - accuracy: 0.7829\n",
      "Epoch 00080: val_loss did not improve from 0.49176\n",
      "219/219 [==============================] - 1s 6ms/step - loss: 0.6416 - accuracy: 0.7832 - val_loss: 0.5096 - val_accuracy: 0.8403\n",
      "Epoch 81/100\n",
      "217/219 [============================>.] - ETA: 0s - loss: 0.6312 - accuracy: 0.7913\n",
      "Epoch 00081: val_loss did not improve from 0.49176\n",
      "219/219 [==============================] - 2s 7ms/step - loss: 0.6317 - accuracy: 0.7908 - val_loss: 0.5182 - val_accuracy: 0.8454\n",
      "Epoch 82/100\n",
      "212/219 [============================>.] - ETA: 0s - loss: 0.6426 - accuracy: 0.7880\n",
      "Epoch 00082: val_loss improved from 0.49176 to 0.49095, saving model to saved_models\\audio_classification.hdf5\n",
      "219/219 [==============================] - 2s 8ms/step - loss: 0.6397 - accuracy: 0.7887 - val_loss: 0.4910 - val_accuracy: 0.8466\n",
      "Epoch 83/100\n",
      "215/219 [============================>.] - ETA: 0s - loss: 0.6476 - accuracy: 0.7892\n",
      "Epoch 00083: val_loss improved from 0.49095 to 0.49067, saving model to saved_models\\audio_classification.hdf5\n",
      "219/219 [==============================] - 2s 8ms/step - loss: 0.6473 - accuracy: 0.7888 - val_loss: 0.4907 - val_accuracy: 0.8489\n",
      "Epoch 84/100\n",
      "212/219 [============================>.] - ETA: 0s - loss: 0.6471 - accuracy: 0.7871\n",
      "Epoch 00084: val_loss did not improve from 0.49067\n",
      "219/219 [==============================] - 2s 7ms/step - loss: 0.6463 - accuracy: 0.7870 - val_loss: 0.5041 - val_accuracy: 0.8472\n",
      "Epoch 85/100\n",
      "217/219 [============================>.] - ETA: 0s - loss: 0.6454 - accuracy: 0.7913\n",
      "Epoch 00085: val_loss did not improve from 0.49067\n",
      "219/219 [==============================] - 1s 6ms/step - loss: 0.6448 - accuracy: 0.7913 - val_loss: 0.4942 - val_accuracy: 0.8558\n",
      "Epoch 86/100\n",
      "214/219 [============================>.] - ETA: 0s - loss: 0.6444 - accuracy: 0.7878\n",
      "Epoch 00086: val_loss did not improve from 0.49067\n",
      "219/219 [==============================] - 1s 6ms/step - loss: 0.6402 - accuracy: 0.7888 - val_loss: 0.4914 - val_accuracy: 0.8569\n",
      "Epoch 87/100\n",
      "217/219 [============================>.] - ETA: 0s - loss: 0.6397 - accuracy: 0.7902\n",
      "Epoch 00087: val_loss improved from 0.49067 to 0.48162, saving model to saved_models\\audio_classification.hdf5\n",
      "219/219 [==============================] - 1s 6ms/step - loss: 0.6375 - accuracy: 0.7907 - val_loss: 0.4816 - val_accuracy: 0.8540\n",
      "Epoch 88/100\n",
      "217/219 [============================>.] - ETA: 0s - loss: 0.6244 - accuracy: 0.7957\n",
      "Epoch 00088: val_loss improved from 0.48162 to 0.48071, saving model to saved_models\\audio_classification.hdf5\n",
      "219/219 [==============================] - 2s 8ms/step - loss: 0.6276 - accuracy: 0.7950 - val_loss: 0.4807 - val_accuracy: 0.8558\n",
      "Epoch 89/100\n",
      "215/219 [============================>.] - ETA: 0s - loss: 0.6153 - accuracy: 0.7974\n",
      "Epoch 00089: val_loss did not improve from 0.48071\n",
      "219/219 [==============================] - 2s 9ms/step - loss: 0.6132 - accuracy: 0.7980 - val_loss: 0.4818 - val_accuracy: 0.8512\n",
      "Epoch 90/100\n",
      "213/219 [============================>.] - ETA: 0s - loss: 0.6238 - accuracy: 0.7928\n",
      "Epoch 00090: val_loss did not improve from 0.48071\n",
      "219/219 [==============================] - 2s 9ms/step - loss: 0.6219 - accuracy: 0.7933 - val_loss: 0.4873 - val_accuracy: 0.8460\n",
      "Epoch 91/100\n",
      "214/219 [============================>.] - ETA: 0s - loss: 0.6170 - accuracy: 0.8017\n",
      "Epoch 00091: val_loss did not improve from 0.48071\n",
      "219/219 [==============================] - 2s 7ms/step - loss: 0.6181 - accuracy: 0.8011 - val_loss: 0.4892 - val_accuracy: 0.8569\n",
      "Epoch 92/100\n",
      "215/219 [============================>.] - ETA: 0s - loss: 0.6268 - accuracy: 0.7952\n",
      "Epoch 00092: val_loss did not improve from 0.48071\n",
      "219/219 [==============================] - 1s 6ms/step - loss: 0.6273 - accuracy: 0.7948 - val_loss: 0.4887 - val_accuracy: 0.8563\n",
      "Epoch 93/100\n",
      "215/219 [============================>.] - ETA: 0s - loss: 0.6227 - accuracy: 0.7942\n",
      "Epoch 00093: val_loss improved from 0.48071 to 0.47029, saving model to saved_models\\audio_classification.hdf5\n",
      "219/219 [==============================] - 1s 7ms/step - loss: 0.6217 - accuracy: 0.7950 - val_loss: 0.4703 - val_accuracy: 0.8558\n",
      "Epoch 94/100\n",
      "218/219 [============================>.] - ETA: 0s - loss: 0.6034 - accuracy: 0.8020 ETA: 0s -\n",
      "Epoch 00094: val_loss did not improve from 0.47029\n",
      "219/219 [==============================] - 2s 8ms/step - loss: 0.6035 - accuracy: 0.8020 - val_loss: 0.4765 - val_accuracy: 0.8575\n",
      "Epoch 95/100\n",
      "214/219 [============================>.] - ETA: 0s - loss: 0.6207 - accuracy: 0.8013\n",
      "Epoch 00095: val_loss did not improve from 0.47029\n",
      "219/219 [==============================] - 2s 8ms/step - loss: 0.6205 - accuracy: 0.8023 - val_loss: 0.4959 - val_accuracy: 0.8546\n",
      "Epoch 96/100\n",
      "217/219 [============================>.] - ETA: 0s - loss: 0.5904 - accuracy: 0.8053\n",
      "Epoch 00096: val_loss improved from 0.47029 to 0.46748, saving model to saved_models\\audio_classification.hdf5\n",
      "219/219 [==============================] - 2s 9ms/step - loss: 0.5891 - accuracy: 0.8060 - val_loss: 0.4675 - val_accuracy: 0.8580\n",
      "Epoch 97/100\n",
      "216/219 [============================>.] - ETA: 0s - loss: 0.6352 - accuracy: 0.7946\n",
      "Epoch 00097: val_loss improved from 0.46748 to 0.45383, saving model to saved_models\\audio_classification.hdf5\n",
      "219/219 [==============================] - 2s 10ms/step - loss: 0.6330 - accuracy: 0.7953 - val_loss: 0.4538 - val_accuracy: 0.8649\n",
      "Epoch 98/100\n",
      "213/219 [============================>.] - ETA: 0s - loss: 0.6085 - accuracy: 0.8027\n",
      "Epoch 00098: val_loss did not improve from 0.45383\n",
      "219/219 [==============================] - 1s 6ms/step - loss: 0.6096 - accuracy: 0.8029 - val_loss: 0.4750 - val_accuracy: 0.8546\n",
      "Epoch 99/100\n",
      "219/219 [==============================] - ETA: 0s - loss: 0.6160 - accuracy: 0.8013\n",
      "Epoch 00099: val_loss did not improve from 0.45383\n",
      "219/219 [==============================] - 1s 6ms/step - loss: 0.6160 - accuracy: 0.8013 - val_loss: 0.4759 - val_accuracy: 0.8580\n",
      "Epoch 100/100\n",
      "211/219 [===========================>..] - ETA: 0s - loss: 0.6062 - accuracy: 0.8023\n",
      "Epoch 00100: val_loss did not improve from 0.45383\n",
      "219/219 [==============================] - 1s 6ms/step - loss: 0.6113 - accuracy: 0.8014 - val_loss: 0.4831 - val_accuracy: 0.8460\n",
      "Training completed in time:  0:02:56.346253\n"
     ]
    }
   ],
   "source": [
    "## Trianing my model\n",
    "from tensorflow.keras.callbacks import ModelCheckpoint\n",
    "from datetime import datetime \n",
    "\n",
    "num_epochs = 100\n",
    "num_batch_size = 32\n",
    "\n",
    "checkpointer = ModelCheckpoint(filepath='saved_models/audio_classification.hdf5', \n",
    "                               verbose=1, save_best_only=True)\n",
    "start = datetime.now()\n",
    "\n",
    "model.fit(X_train, y_train, batch_size=num_batch_size, epochs=num_epochs, validation_data=(X_test, y_test), callbacks=[checkpointer], verbose=1)\n",
    "\n",
    "\n",
    "duration = datetime.now() - start\n",
    "print(\"Training completed in time: \", duration)"
   ]
  },
  {
   "cell_type": "code",
   "execution_count": null,
   "metadata": {},
   "outputs": [],
   "source": [
    "test_accuracy=model.evaluate(X_test,y_test,verbose=0)\n",
    "print(test_accuracy[1])"
   ]
  },
  {
   "cell_type": "markdown",
   "metadata": {},
   "source": [
    "# MODEL TESTING"
   ]
  },
  {
   "cell_type": "code",
   "execution_count": 69,
   "metadata": {},
   "outputs": [
    {
     "name": "stdout",
     "output_type": "stream",
     "text": [
      "[[-3.6673660e+02  1.3503891e+02 -4.2616154e+01  1.6085056e+01\n",
      "  -2.2375364e+01  9.1354361e+00 -1.9351471e+01  4.8132019e+00\n",
      "  -1.0816058e+01  1.0070497e+01 -9.6575966e+00 -3.7269032e+00\n",
      "  -1.2884995e+01  5.1683006e+00 -7.4820943e+00 -4.2542825e+00\n",
      "  -1.1013007e+00 -4.5083997e-01 -1.4741901e+00  1.2964101e+00\n",
      "  -4.3857333e-01 -1.0769862e+00 -2.9204769e+00 -2.5535488e+00\n",
      "  -9.9449927e-01 -2.8227601e+00 -4.1575103e+00 -1.4736261e+00\n",
      "   1.2933216e+00 -2.3706808e+00 -5.1770988e+00 -5.9800525e+00\n",
      "  -2.0016951e-02 -1.5042423e+00  2.2850301e-02 -1.4173561e+00\n",
      "  -1.7186699e+00 -3.7543144e+00 -2.1987939e+00 -3.3046384e+00]]\n",
      "(1, 40)\n",
      "[2]\n"
     ]
    },
    {
     "data": {
      "text/plain": [
       "array(['children_playing'], dtype='<U16')"
      ]
     },
     "execution_count": 69,
     "metadata": {},
     "output_type": "execute_result"
    }
   ],
   "source": [
    "filename=\"UrbanSound8K/childs.wav\"\n",
    "audio, sample_rate = librosa.load(filename, res_type='kaiser_fast') \n",
    "mfccs_features = librosa.feature.mfcc(y=audio, sr=sample_rate, n_mfcc=40)\n",
    "mfccs_scaled_features = np.mean(mfccs_features.T,axis=0)\n",
    "\n",
    "mfccs_scaled_features=mfccs_scaled_features.reshape(1,-1)\n",
    "print(mfccs_scaled_features)\n",
    "print(mfccs_scaled_features.shape)\n",
    "predicted_label=np.argmax(model.predict(mfccs_scaled_features), axis=-1)\n",
    "print(predicted_label)\n",
    "prediction_class = labelencoder.inverse_transform(predicted_label) \n",
    "prediction_class"
   ]
  },
  {
   "cell_type": "code",
   "execution_count": 53,
   "metadata": {},
   "outputs": [
    {
     "name": "stdout",
     "output_type": "stream",
     "text": [
      "0.8460217714309692\n"
     ]
    }
   ],
   "source": [
    "#test data accuracy\n",
    "test_accuracy=model.evaluate(X_test,y_test,verbose=0)\n",
    "print(test_accuracy[1])"
   ]
  },
  {
   "cell_type": "code",
   "execution_count": 93,
   "metadata": {},
   "outputs": [
    {
     "name": "stdout",
     "output_type": "stream",
     "text": [
      "0.896349310874939\n"
     ]
    }
   ],
   "source": [
    "#train data accuracy\n",
    "train_accuracy=model.evaluate(X_train,y_train,verbose=0)\n",
    "print(train_accuracy[1])\n"
   ]
  },
  {
   "cell_type": "code",
   "execution_count": null,
   "metadata": {},
   "outputs": [],
   "source": []
  },
  {
   "cell_type": "code",
   "execution_count": 82,
   "metadata": {},
   "outputs": [],
   "source": [
    "def print_prediction(filename):\n",
    "    audio, sample_rate = librosa.load(filename, res_type='kaiser_fast') \n",
    "    mfccs_features = librosa.feature.mfcc(y=audio, sr=sample_rate, n_mfcc=40)\n",
    "    mfccs_scaled_features = np.mean(mfccs_features.T,axis=0)\n",
    "    mfccs_scaled_features=mfccs_scaled_features.reshape(1,-1)\n",
    "    predicted_label=np.argmax(model.predict(mfccs_scaled_features), axis=-1)\n",
    "    prediction_class = labelencoder.inverse_transform(predicted_label) \n",
    "    print('The predicted class is',*prediction_class)"
   ]
  },
  {
   "cell_type": "code",
   "execution_count": null,
   "metadata": {},
   "outputs": [],
   "source": []
  },
  {
   "cell_type": "code",
   "execution_count": 83,
   "metadata": {},
   "outputs": [
    {
     "name": "stdout",
     "output_type": "stream",
     "text": [
      "The predicted class is children_playing\n"
     ]
    }
   ],
   "source": [
    "filename = 'UrbanSound8K/childs.wav'\n",
    "print_prediction(filename)\n"
   ]
  },
  {
   "cell_type": "code",
   "execution_count": 85,
   "metadata": {},
   "outputs": [
    {
     "name": "stdout",
     "output_type": "stream",
     "text": [
      "The predicted class is children_playing\n"
     ]
    }
   ],
   "source": [
    "filename = 'UrbanSound8K/Test data/9223-2-0-2.wav'\n",
    "print_prediction(filename)"
   ]
  },
  {
   "cell_type": "code",
   "execution_count": 86,
   "metadata": {},
   "outputs": [
    {
     "name": "stdout",
     "output_type": "stream",
     "text": [
      "The predicted class is air_conditioner\n"
     ]
    }
   ],
   "source": [
    "filename = 'UrbanSound8K/Test data/57320-0-0-15.wav'\n",
    "print_prediction(filename)"
   ]
  },
  {
   "cell_type": "code",
   "execution_count": 87,
   "metadata": {},
   "outputs": [
    {
     "name": "stdout",
     "output_type": "stream",
     "text": [
      "The predicted class is engine_idling\n"
     ]
    }
   ],
   "source": [
    "filename = 'UrbanSound8K/Test data/17578-5-0-6.wav'\n",
    "print_prediction(filename)"
   ]
  }
 ],
 "metadata": {
  "kernelspec": {
   "display_name": "Python 3",
   "language": "python",
   "name": "python3"
  },
  "language_info": {
   "codemirror_mode": {
    "name": "ipython",
    "version": 3
   },
   "file_extension": ".py",
   "mimetype": "text/x-python",
   "name": "python",
   "nbconvert_exporter": "python",
   "pygments_lexer": "ipython3",
   "version": "3.8.3"
  }
 },
 "nbformat": 4,
 "nbformat_minor": 4
}
